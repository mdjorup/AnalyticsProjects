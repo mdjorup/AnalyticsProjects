{
 "cells": [
  {
   "cell_type": "code",
   "execution_count": 1,
   "id": "0d8ab7f0",
   "metadata": {},
   "outputs": [],
   "source": [
    "import copy\n",
    "import numpy as np\n",
    "import time\n",
    "%matplotlib inline\n",
    "import matplotlib.pyplot as plt"
   ]
  },
  {
   "cell_type": "markdown",
   "id": "c4a3ba74",
   "metadata": {},
   "source": [
    "# Logistic Regression Implementation\n",
    "\n",
    "### General Description\n",
    "\n",
    "Given an amount of input features, we want to be able to predict an output of either 0 or 1. For example, given characteristics of a Url, can we predict whether the URL will be a phishing (1) or non-phishing (0) url. In the logistic regression algorithm, the inputs are used to generate a value between 0 and 1 ($\\hat{y}$). If $\\hat{y}$ is greater than 0.5, we predict that the output will be 1. If $\\hat{y}$ is less than or equal to 0.5, we predict the output to be 0.\n",
    "\n",
    "\n",
    "To make our prediction, each of the inputs is given a weight for how much it will contribute to the overall output. Using the URL example, the length of the URL (x<sub>1</sub>) might be given a weight of 2 (w<sub>1</sub>) and the number of unique characters (x<sub>2</sub>) might be given a weight of 0.38 (w<sub>2</sub>). The goal for the algorithm is to find the optimal combination of weights. For our calculated prediction, we are also going to add parameter b, which will serve as a correction value just as b does in the equation $y=mx+b$\n",
    "<br/><br/>\n",
    "\n",
    "<center>So far, we have: $z=b+w_{1}x_{1}+w_{2}x_{2}+w_{3}x_{3}...$ where z is our prediction.\n",
    "\n",
    "However, we mentioned above that our prediction needs to have a value between 0 and 1, yet it is totally possible that our parameters (the weights and b) output a prediction z that is outside the range of 0 and 1. To address this issue, we need a function that will take in a parameter $z$ and output a value between 0 and 1. This is called our *activation function*.\n",
    "<br/><br/>\n",
    "<center>Our activation function is going to be the sigmoid function. The equation for sigmoid is:\n",
    "\n",
    "<center>$s(z)=\\frac{1}{1+e^{-z}}$"
   ]
  },
  {
   "cell_type": "code",
   "execution_count": 2,
   "id": "7299dd31",
   "metadata": {},
   "outputs": [
    {
     "name": "stdout",
     "output_type": "stream",
     "text": [
      "Sigmoid of [-0.6, 0, 2] =  [0.35434369 0.5        0.88079708]\n"
     ]
    }
   ],
   "source": [
    "def sigmoid(z):\n",
    "    return 1 / (1 + np.exp(-z))\n",
    "print(\"Sigmoid of [-0.6, 0, 2] = \", sigmoid(np.array([-0.6, 0, 2])))"
   ]
  },
  {
   "cell_type": "markdown",
   "id": "69829a2b",
   "metadata": {},
   "source": [
    "No matter what our input is for z, the sigmoid function ensures that our prediction value $\\hat{y}$ will always be within [0,1]. We can generalize and say:\n",
    "<center>$Z=w^{T}X+b$</center>\n",
    "<center>$A=$sigmoid($Z$)</center>\n",
    "<center>where Z is a list of every output z for every example and $A$ is a list of every prediction $\\hat{y}$ for every z.\n",
    "\n",
    "In the context of the URL example, $A$ would be a list of predicted values (0 or 1) for all URLs.\n",
    "    \n",
    "At this point, we can at least initialize W and b to start at values of 0. These values will change, but they need to start somewhere"
   ]
  },
  {
   "cell_type": "code",
   "execution_count": 3,
   "id": "d8ef776a",
   "metadata": {},
   "outputs": [
    {
     "name": "stdout",
     "output_type": "stream",
     "text": [
      "w:\n",
      " [[0.]\n",
      " [0.]\n",
      " [0.]] \n",
      "b: 0.0\n"
     ]
    }
   ],
   "source": [
    "def initialize_0(num_inputs):\n",
    "    w = np.zeros((num_inputs, 1))\n",
    "    b = float(0)\n",
    "    return w, b\n",
    "\n",
    "w_test, b_test = initialize_0(3)\n",
    "print(\"w:\\n\", w_test, '\\nb:',b_test)"
   ]
  },
  {
   "cell_type": "markdown",
   "id": "14e9721f",
   "metadata": {},
   "source": [
    "Here are some variable definitions for the purposes of the example, lets say that we have 4 examples, each with 3 features:\n",
    " - w is a list of weights for each feature. $w = [ [w_{1}], [w_{2}], [w_{3}] ]$\n",
    " - b is simply a float value. Example: $b=0.0$\n",
    " - X is a matrix of all inputs for each example.\n",
    " \n",
    "$X= [[a, b, c, d], [e, f, g, h], [i, j, k, l]]$ --> X is length 3 for 3 features, each feature is length 4 for each example\n",
    "\n",
    "X[0] contains $w_{1}$ for all four input examples. X[1] contains $w_{2}$ for all input examples, etc...\n",
    "\n",
    " - Y is a list of the labels for each of the examples. $y = [[1, 0, 0, 1]]$\n",
    "\n",
    " "
   ]
  },
  {
   "cell_type": "code",
   "execution_count": 4,
   "id": "789d5b2f",
   "metadata": {},
   "outputs": [],
   "source": [
    "def cost(A, Y):\n",
    "    # our cost can be defined in different ways. For this example, cost is defined by the following:\n",
    "    # A and Y are the same shape\n",
    "    cost = -1 / Y.shape[1] * np.sum(Y * np.log(A) + (1 - Y) * np.log(1 - A))\n",
    "    return cost\n",
    "    "
   ]
  },
  {
   "cell_type": "code",
   "execution_count": 31,
   "id": "eaad1a9c",
   "metadata": {},
   "outputs": [
    {
     "data": {
      "text/plain": [
       "1.1229603751702721"
      ]
     },
     "execution_count": 31,
     "metadata": {},
     "output_type": "execute_result"
    }
   ],
   "source": [
    "Y = np.array([[0., 0., 1., 1.]])\n",
    "X = np.array([[1., -2., -1., 2.], [3., 0.5, -3.2, 1.], [0.6, -2., -0.7, -0.1]])\n",
    "w, b = initialize_0(X.shape[0])\n",
    "cost(np.array([[.9, 0.3, 0.2, 0.8]]), Y)"
   ]
  },
  {
   "cell_type": "code",
   "execution_count": 32,
   "id": "fbb76cde",
   "metadata": {},
   "outputs": [
    {
     "name": "stdout",
     "output_type": "stream",
     "text": [
      "w shape:  (3, 1)\n",
      "X shape:  (3, 4)\n",
      "Y shape:  (1, 4)\n"
     ]
    }
   ],
   "source": [
    "print(\"w shape: \", w.shape)\n",
    "print(\"X shape: \", X.shape)\n",
    "print(\"Y shape: \", Y.shape)"
   ]
  },
  {
   "cell_type": "markdown",
   "id": "e5f9acf8",
   "metadata": {},
   "source": [
    "<center>w is a (3, 1) matrix and X is a (3, 4) matrix. If we do $w^{T}X$ we output a (1, 4) matrix, which is the same shape as Y.\n",
    "    \n",
    "We also need to compute the partial derivatives for each variable. \n",
    "$$ \\frac{\\partial J}{\\partial w} = \\frac{1}{m}X(A-Y)^T\\tag{7}$$\n",
    "$$ \\frac{\\partial J}{\\partial b} = \\frac{1}{m} \\sum_{i=1}^m (a^{(i)}-y^{(i)})\\tag{8}$$"
   ]
  },
  {
   "cell_type": "code",
   "execution_count": 33,
   "id": "b6d1a86f",
   "metadata": {},
   "outputs": [],
   "source": [
    "def propagate(w, b, X, Y):\n",
    "    m = Y.shape[1]\n",
    "    \n",
    "    A = sigmoid(np.dot(w.T, X) + b)\n",
    "    # With our predictions A, we can calculate our cost using the cost function we described above\n",
    "    c = cost(A, Y)\n",
    "\n",
    "    #Now we have the cost for our current values of W. The ultimate goal is to minimize the cost function,\n",
    "    #minimizing the cost function will make our model the best\n",
    "    \n",
    "    # dw and db are the partial derivatives for how much each variable affects the cost function\n",
    "    # these derivatives were calculated through some calculus and complex math\n",
    "    \n",
    "    #dw is a list of derivatives for each weight. dw has a shape of 3, 1 (same shape as w) and db is just a float\n",
    "    dw = 1 / m * np.dot(X, (A-Y).T)\n",
    "    db = 1 / m * np.sum(A - Y)\n",
    "    \n",
    "    return dw, db, c\n",
    "    "
   ]
  },
  {
   "cell_type": "code",
   "execution_count": 34,
   "id": "9d4517fb",
   "metadata": {},
   "outputs": [
    {
     "data": {
      "text/plain": [
       "(array([[-0.25  ],\n",
       "        [ 0.7125],\n",
       "        [-0.075 ]]),\n",
       " 0.0,\n",
       " 0.6931471805599453)"
      ]
     },
     "execution_count": 34,
     "metadata": {},
     "output_type": "execute_result"
    }
   ],
   "source": [
    "propagate(w,b,X,Y)"
   ]
  },
  {
   "cell_type": "markdown",
   "id": "54e786e1",
   "metadata": {},
   "source": [
    "### Optimize\n",
    "\n",
    "Basically keep repeating the proagate function to optimize dw and db\n",
    "\n",
    "If the rate of change of the cost function is negative as we increase w, then we want to increase w. "
   ]
  },
  {
   "cell_type": "code",
   "execution_count": 35,
   "id": "b8f5d15e",
   "metadata": {},
   "outputs": [],
   "source": [
    "def optimize(w, b, X, Y, num_iterations=100, learning_rate=0.009):\n",
    "    w = copy.deepcopy(w)\n",
    "    b = copy.deepcopy(b)\n",
    "    \n",
    "    costs = []\n",
    "    for i in range(num_iterations):\n",
    "        \n",
    "        dw, db, c = propagate(w,b,X,Y)\n",
    "        \n",
    "        w = w - learning_rate * dw\n",
    "        b = b - learning_rate * db\n",
    "        \n",
    "        #print('\\r', \"Cost after iteration \", i+1, \":\\t\", c, end='')\n",
    "        costs.append(c)\n",
    "    \n",
    "    print(\"W: \", w)\n",
    "    print(\"b: \", b)\n",
    "    \n",
    "    return w, b, costs\n",
    "        \n",
    "        \n"
   ]
  },
  {
   "cell_type": "code",
   "execution_count": 36,
   "id": "d4a742fb",
   "metadata": {},
   "outputs": [
    {
     "name": "stdout",
     "output_type": "stream",
     "text": [
      "W:  [[ 1.08195827]\n",
      " [-1.16092169]\n",
      " [ 0.12983141]]\n",
      "b:  0.22525827789092784\n"
     ]
    }
   ],
   "source": [
    "w_opt, b_opt, costs = optimize(w,b,X,Y, num_iterations=2000, learning_rate=0.003)"
   ]
  },
  {
   "cell_type": "code",
   "execution_count": 37,
   "id": "7bbd9e46",
   "metadata": {},
   "outputs": [
    {
     "data": {
      "text/plain": [
       "[<matplotlib.lines.Line2D at 0x26c7b174250>]"
      ]
     },
     "execution_count": 37,
     "metadata": {},
     "output_type": "execute_result"
    },
    {
     "data": {
      "image/png": "[encoded data removed]",
      "text/plain": [
       "<Figure size 432x288 with 1 Axes>"
      ]
     },
     "metadata": {
      "needs_background": "light"
     },
     "output_type": "display_data"
    }
   ],
   "source": [
    "plt.plot(costs)"
   ]
  },
  {
   "cell_type": "code",
   "execution_count": 38,
   "id": "1ded02a1",
   "metadata": {},
   "outputs": [],
   "source": [
    "def predict(w, b, X):\n",
    "    \n",
    "    m = X.shape[1]\n",
    "    y_pred = np.zeros((1, m))\n",
    "    \n",
    "    A = sigmoid(np.dot(w.T, X) + b)\n",
    "    \n",
    "    for i in range(A.shape[1]):\n",
    "        if A[0, i] > 0.5:\n",
    "            y_pred[0, i] = 1\n",
    "        else:\n",
    "            y_pred[0,i] = 0\n",
    "            \n",
    "    return y_pred"
   ]
  },
  {
   "cell_type": "code",
   "execution_count": 39,
   "id": "d7d0e285",
   "metadata": {},
   "outputs": [
    {
     "data": {
      "text/plain": [
       "array([[0., 0., 1., 1.]])"
      ]
     },
     "execution_count": 39,
     "metadata": {},
     "output_type": "execute_result"
    }
   ],
   "source": [
    "predict(w_opt, b_opt, X)"
   ]
  },
  {
   "cell_type": "code",
   "execution_count": null,
   "id": "be386e84",
   "metadata": {},
   "outputs": [],
   "source": []
  }
 ],
 "metadata": {
  "kernelspec": {
   "display_name": "Python 3 (ipykernel)",
   "language": "python",
   "name": "python3"
  },
  "language_info": {
   "codemirror_mode": {
    "name": "ipython",
    "version": 3
   },
   "file_extension": ".py",
   "mimetype": "text/x-python",
   "name": "python",
   "nbconvert_exporter": "python",
   "pygments_lexer": "ipython3",
   "version": "3.9.6"
  }
 },
 "nbformat": 4,
 "nbformat_minor": 5
}
